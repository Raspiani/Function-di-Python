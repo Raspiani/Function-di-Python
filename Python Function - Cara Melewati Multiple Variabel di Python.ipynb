{
 "cells": [
  {
   "cell_type": "markdown",
   "metadata": {},
   "source": [
    "## Python Function - Cara Melewati Multiple Variabel di Python\n",
    "\n",
    "Berikut ini cara melewati multiple variabel di python."
   ]
  },
  {
   "cell_type": "code",
   "execution_count": 1,
   "metadata": {},
   "outputs": [],
   "source": [
    "#mendefinisikan fungsi\n",
    "def var_length(*args):\n",
    "    n_args = 0\n",
    "    for n_args in args:\n",
    "        print(\"Ini adalah argumen no. \", n_args)"
   ]
  },
  {
   "cell_type": "code",
   "execution_count": 2,
   "metadata": {},
   "outputs": [
    {
     "name": "stdout",
     "output_type": "stream",
     "text": [
      "Ini adalah argumen no.  1\n",
      "Ini adalah argumen no.  2\n",
      "Ini adalah argumen no.  3\n",
      "Ini adalah argumen no.  4\n",
      "Ini adalah argumen no.  5\n",
      "Ini adalah argumen no.  6\n"
     ]
    }
   ],
   "source": [
    "#hasil contoh 1\n",
    "var_length(1,2,3,4,5,6)"
   ]
  },
  {
   "cell_type": "code",
   "execution_count": 3,
   "metadata": {},
   "outputs": [
    {
     "name": "stdout",
     "output_type": "stream",
     "text": [
      "Ini adalah argumen no.  1\n",
      "Ini adalah argumen no.  2\n",
      "Ini adalah argumen no.  3\n",
      "Ini adalah argumen no.  4\n",
      "Ini adalah argumen no.  5\n",
      "Ini adalah argumen no.  6\n",
      "Ini adalah argumen no.  7\n",
      "Ini adalah argumen no.  8\n",
      "Ini adalah argumen no.  9\n"
     ]
    }
   ],
   "source": [
    "#hasil contoh 2\n",
    "var_length(1,2,3,4,5,6,7,8,9)"
   ]
  },
  {
   "cell_type": "markdown",
   "metadata": {},
   "source": [
    "                        #Semoga Bermanfaat\n",
    "                        #@Raspiani_"
   ]
  }
 ],
 "metadata": {
  "kernelspec": {
   "display_name": "Python 3",
   "language": "python",
   "name": "python3"
  },
  "language_info": {
   "codemirror_mode": {
    "name": "ipython",
    "version": 3
   },
   "file_extension": ".py",
   "mimetype": "text/x-python",
   "name": "python",
   "nbconvert_exporter": "python",
   "pygments_lexer": "ipython3",
   "version": "3.6.5"
  }
 },
 "nbformat": 4,
 "nbformat_minor": 2
}
