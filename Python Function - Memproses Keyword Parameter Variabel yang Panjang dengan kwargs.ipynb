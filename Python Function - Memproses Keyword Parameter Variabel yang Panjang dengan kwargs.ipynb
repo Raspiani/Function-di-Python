{
 "cells": [
  {
   "cell_type": "markdown",
   "metadata": {},
   "source": [
    "## Python Function - Memproses Keyword Parameter Variabel yang Panjang dengan *kwargs\n",
    "\n",
    "Berikut ini cara memproses keyword parameter variabel yang panjang dengan *kwargs."
   ]
  },
  {
   "cell_type": "code",
   "execution_count": 1,
   "metadata": {},
   "outputs": [],
   "source": [
    "#membuat fungsi\n",
    "def format_report(**kwargs):\n",
    "    for key, value in kwargs.items():\n",
    "        print(key + \" - \" + str(value))"
   ]
  },
  {
   "cell_type": "code",
   "execution_count": 2,
   "metadata": {},
   "outputs": [
    {
     "name": "stdout",
     "output_type": "stream",
     "text": [
      "Country - Indonesia\n",
      "Sales - 1000\n"
     ]
    }
   ],
   "source": [
    "#memanggil fungsi\n",
    "format_report(Country = \"Indonesia\", Sales = 1000)"
   ]
  },
  {
   "cell_type": "code",
   "execution_count": 3,
   "metadata": {},
   "outputs": [
    {
     "name": "stdout",
     "output_type": "stream",
     "text": [
      "Country - India\n",
      "Sales - 500\n"
     ]
    }
   ],
   "source": [
    "#memangggil fungsi\n",
    "format_report(Country = \"India\", Sales = 500)"
   ]
  },
  {
   "cell_type": "markdown",
   "metadata": {},
   "source": [
    "                           #Semoga Bermanfaat\n",
    "                           #@Raspiani_"
   ]
  }
 ],
 "metadata": {
  "kernelspec": {
   "display_name": "Python 3",
   "language": "python",
   "name": "python3"
  },
  "language_info": {
   "codemirror_mode": {
    "name": "ipython",
    "version": 3
   },
   "file_extension": ".py",
   "mimetype": "text/x-python",
   "name": "python",
   "nbconvert_exporter": "python",
   "pygments_lexer": "ipython3",
   "version": "3.6.5"
  }
 },
 "nbformat": 4,
 "nbformat_minor": 2
}
