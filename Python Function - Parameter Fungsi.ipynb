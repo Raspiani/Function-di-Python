{
 "cells": [
  {
   "cell_type": "markdown",
   "metadata": {},
   "source": [
    "## Python Function - Parameter Fungsi\n",
    "\n",
    "Berikut ini tutorial terkait parameter dalam fungsi di python."
   ]
  },
  {
   "cell_type": "code",
   "execution_count": 5,
   "metadata": {},
   "outputs": [],
   "source": [
    "#membuat fungsi\n",
    "def format_report(**kwargs): \n",
    "    for key, value in kwargs.items():\n",
    "        print(key + \" - \" + str(value))"
   ]
  },
  {
   "cell_type": "code",
   "execution_count": 6,
   "metadata": {},
   "outputs": [
    {
     "name": "stdout",
     "output_type": "stream",
     "text": [
      "Country - Indonesia\n",
      "Sales - 6000\n"
     ]
    }
   ],
   "source": [
    "#memanggil fungsi\n",
    "format_report(Country = 'Indonesia', Sales = 6000)"
   ]
  },
  {
   "cell_type": "code",
   "execution_count": 7,
   "metadata": {},
   "outputs": [
    {
     "name": "stdout",
     "output_type": "stream",
     "text": [
      "Japan - 1000\n",
      "Indonesia - 6000\n",
      "China - 5000\n"
     ]
    }
   ],
   "source": [
    "#mendefinisikan sales\n",
    "sales = {\"Japan\" : 1000, \"Indonesia\" : 6000, \"China\" : 5000}\n",
    "\n",
    "#memanggil fungsi\n",
    "format_report(**sales)"
   ]
  },
  {
   "cell_type": "markdown",
   "metadata": {},
   "source": [
    "                           #Semoga Bermanfaat\n",
    "                           #@Raspiani_"
   ]
  }
 ],
 "metadata": {
  "kernelspec": {
   "display_name": "Python 3",
   "language": "python",
   "name": "python3"
  },
  "language_info": {
   "codemirror_mode": {
    "name": "ipython",
    "version": 3
   },
   "file_extension": ".py",
   "mimetype": "text/x-python",
   "name": "python",
   "nbconvert_exporter": "python",
   "pygments_lexer": "ipython3",
   "version": "3.6.5"
  }
 },
 "nbformat": 4,
 "nbformat_minor": 2
}
